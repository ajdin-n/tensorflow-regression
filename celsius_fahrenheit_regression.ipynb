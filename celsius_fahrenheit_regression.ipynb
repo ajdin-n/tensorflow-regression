{
 "cells": [
  {
   "cell_type": "markdown",
   "metadata": {},
   "source": [
    "https://www.youtube.com/watch?v=-vHQub0NXI4\n",
    "regression explanation\n",
    "\n",
    "https://colab.research.google.com/github/tensorflow/examples/blob/master/courses/udacity_intro_to_tensorflow_for_deep_learning/l02c01_celsius_to_fahrenheit.ipynb#scrollTo=VM7_9Klvq7MO\n",
    "colab code - great documentation\n",
    "\n",
    "https://keras.io/\n",
    "keras library documentation\n",
    "(it's amazing, use it)"
   ]
  },
  {
   "cell_type": "code",
   "execution_count": 13,
   "metadata": {},
   "outputs": [],
   "source": [
    "import tensorflow as tf\n",
    "import numpy as np\n",
    "import matplotlib.pyplot as plt"
   ]
  },
  {
   "cell_type": "code",
   "execution_count": 3,
   "metadata": {},
   "outputs": [],
   "source": [
    "# celsius and fahrenheit measured values\n",
    "celsius = np.array([-40, -10, 0, 8, 15, 22, 38], dtype=float)\n",
    "fahrenheit = np.array([-40, 14, 32, 46, 59, 72, 100], dtype=float)"
   ]
  },
  {
   "cell_type": "code",
   "execution_count": 4,
   "metadata": {},
   "outputs": [
    {
     "name": "stdout",
     "output_type": "stream",
     "text": [
      "-40.0 degrees Celsius = -40.0 degrees Fahrenheit\n",
      "-10.0 degrees Celsius = 14.0 degrees Fahrenheit\n",
      "0.0 degrees Celsius = 32.0 degrees Fahrenheit\n",
      "8.0 degrees Celsius = 46.0 degrees Fahrenheit\n",
      "15.0 degrees Celsius = 59.0 degrees Fahrenheit\n",
      "22.0 degrees Celsius = 72.0 degrees Fahrenheit\n",
      "38.0 degrees Celsius = 100.0 degrees Fahrenheit\n",
      "\n",
      "\n"
     ]
    }
   ],
   "source": [
    "# print out both values\n",
    "for i, c in enumerate(celsius):\n",
    "\tprint(\"{} degrees Celsius = {} degrees Fahrenheit\".format(c, fahrenheit[i]))\n",
    "print('\\n')"
   ]
  },
  {
   "cell_type": "markdown",
   "metadata": {},
   "source": [
    "features - inputs to model\n",
    "labels - output the model predicts\n",
    "example - pair of input/output, example: (celsius, fahr) pair: (38, 100)"
   ]
  },
  {
   "cell_type": "code",
   "execution_count": 5,
   "metadata": {},
   "outputs": [],
   "source": [
    "layer0 = tf.keras.layers.Dense(units=1, input_shape=[1])"
   ]
  },
  {
   "cell_type": "markdown",
   "metadata": {},
   "source": [
    "Class: CeckpointableBase -> Checkpointable -> Module -> Layer -> Dense\n",
    "input_shape[1] - specifies input to this layer is a single value\n",
    "one-dimensional array with one member\n",
    "units=1 - specifies number of neurons in the layer\n",
    "number of neurons defines how many internal variables \n",
    "the layer has to try to learn to solve the problem"
   ]
  },
  {
   "cell_type": "code",
   "execution_count": 6,
   "metadata": {},
   "outputs": [
    {
     "name": "stdout",
     "output_type": "stream",
     "text": [
      "WARNING:tensorflow:From /home/ajdin/venv/lib/python3.6/site-packages/tensorflow/python/ops/resource_variable_ops.py:435: colocate_with (from tensorflow.python.framework.ops) is deprecated and will be removed in a future version.\n",
      "Instructions for updating:\n",
      "Colocations handled automatically by placer.\n"
     ]
    }
   ],
   "source": [
    "# assemble defined layers into model\n",
    "model = tf.keras.Sequential([layer0])\n",
    "# Class: Model -> Sequential"
   ]
  },
  {
   "cell_type": "markdown",
   "metadata": {},
   "source": [
    "more often defined as:\n",
    "model = tf.keras.Sequential\n",
    "    ([\n",
    "    tf.keras.layers.Dense(units=1, input_shape=[1])\n",
    "    ])"
   ]
  },
  {
   "cell_type": "markdown",
   "metadata": {},
   "source": [
    "before training, model has to be compiled\n",
    "\n",
    "arguments of compile function:\n",
    "compile(optimizer, loss=None, metrics=None, loss_weights=None, sample_weight_mode=None, weighted_metrics=None,target_tensors=None)\n",
    "\n",
    "read more about it at: https://keras.io/models/model/"
   ]
  },
  {
   "cell_type": "code",
   "execution_count": 7,
   "metadata": {},
   "outputs": [
    {
     "name": "stdout",
     "output_type": "stream",
     "text": [
      "WARNING:tensorflow:From /home/ajdin/venv/lib/python3.6/site-packages/tensorflow/python/keras/utils/losses_utils.py:170: to_float (from tensorflow.python.ops.math_ops) is deprecated and will be removed in a future version.\n",
      "Instructions for updating:\n",
      "Use tf.cast instead.\n"
     ]
    }
   ],
   "source": [
    "model.compile(loss='mean_squared_error', \n",
    "\toptimizer=tf.keras.optimizers.Adam(0.1))\n",
    "\n",
    "# 'mean_squared_error' = 'mse'"
   ]
  },
  {
   "cell_type": "markdown",
   "metadata": {},
   "source": [
    "loss f. - measurement of difference between predicted and real value\n",
    "optimizer f. - adjusting internal values to reduce loss f.\n",
    "\n",
    "'mean_squared_error' = 'mse'\n",
    "read more about it at: https://en.wikipedia.org/wiki/Mean_squared_error\n",
    "\n",
    "Adam optimizer f. - standard for simple models\n",
    "set learning rate to: 0.1 - 0.001 (default)\n",
    "read more about it at: \n",
    "https://machinelearningmastery.com/adam-optimization-algorithm-for-deep-learning/"
   ]
  },
  {
   "cell_type": "code",
   "execution_count": 8,
   "metadata": {},
   "outputs": [
    {
     "name": "stdout",
     "output_type": "stream",
     "text": [
      "WARNING:tensorflow:From /home/ajdin/venv/lib/python3.6/site-packages/tensorflow/python/ops/math_ops.py:3066: to_int32 (from tensorflow.python.ops.math_ops) is deprecated and will be removed in a future version.\n",
      "Instructions for updating:\n",
      "Use tf.cast instead.\n",
      "Finished training the model\n",
      "\n"
     ]
    }
   ],
   "source": [
    "history = model.fit(celsius, fahrenheit, epochs=500, verbose=False)\n",
    "print(\"Finished training the model\\n\")"
   ]
  },
  {
   "cell_type": "markdown",
   "metadata": {},
   "source": [
    "input-celsius, output-fahrenheit\n",
    "model takes celsius values, performs a calculation using current \n",
    "internal variables (called \"weights\") and outputs fahrenheit value\n",
    "\n",
    "arguments of fit function:\n",
    "fit(x=None, y=None, batch_size=None, epochs=1, verbose=1,callbacks=None, validation_split=0.0, validation_data=None, shuffle=True, class_weight=None, sample_weight=None, initial_epoch=0, steps_per_epoch=None, validation_steps=None, validation_freq=1)\n",
    "\n",
    "read more about it at:\n",
    "https://keras.io/models/model/"
   ]
  },
  {
   "cell_type": "markdown",
   "metadata": {},
   "source": [
    "plotting the transfer function\n",
    "see how loss f. gets smaller (better prediction) the more epoch's it trains"
   ]
  },
  {
   "cell_type": "code",
   "execution_count": 14,
   "metadata": {},
   "outputs": [
    {
     "data": {
      "text/plain": [
       "[<matplotlib.lines.Line2D at 0x7f1316c7abe0>]"
      ]
     },
     "execution_count": 14,
     "metadata": {},
     "output_type": "execute_result"
    },
    {
     "data": {
      "image/png": "[encoded data removed]",
      "text/plain": [
       "<Figure size 432x288 with 1 Axes>"
      ]
     },
     "metadata": {
      "needs_background": "light"
     },
     "output_type": "display_data"
    }
   ],
   "source": [
    "plt.xlabel(\"Epoch Number\")\n",
    "plt.ylabel(\"Loss Magnitude\")\n",
    "plt.plot(history.history['loss'])"
   ]
  },
  {
   "cell_type": "code",
   "execution_count": 10,
   "metadata": {},
   "outputs": [
    {
     "name": "stdout",
     "output_type": "stream",
     "text": [
      "The predicted fahrenheit value for degree celsius 100.0 is : \n",
      "\n",
      "[[211.33388]]\n"
     ]
    }
   ],
   "source": [
    "print(\"The predicted fahrenheit value for degree celsius 100.0 is : \\n\")\n",
    "print(model.predict([100.0]))"
   ]
  },
  {
   "cell_type": "markdown",
   "metadata": {},
   "source": [
    "the predicted value is: 211.something\n",
    "which is quite good\n",
    "real value: 212"
   ]
  },
  {
   "cell_type": "code",
   "execution_count": 11,
   "metadata": {},
   "outputs": [
    {
     "name": "stdout",
     "output_type": "stream",
     "text": [
      "These are the layer variables: [array([[1.8211797]], dtype=float32), array([29.215895], dtype=float32)]\n"
     ]
    }
   ],
   "source": [
    "print(\"These are the layer variables: {}\".format(layer0.get_weights()))"
   ]
  },
  {
   "cell_type": "markdown",
   "metadata": {},
   "source": [
    "the predicted weights are: 1.8something, and 29.something\n",
    "which is nearly correct\n",
    "for the conversion equation: fahr = 1.8*cel + 32"
   ]
  },
  {
   "cell_type": "markdown",
   "metadata": {},
   "source": [
    "testing again with 3 different layers"
   ]
  },
  {
   "cell_type": "code",
   "execution_count": 12,
   "metadata": {},
   "outputs": [
    {
     "name": "stdout",
     "output_type": "stream",
     "text": [
      "Finished training the model\n",
      "[[211.74744]]\n",
      "Model predicts that 100 degrees Celsius is:\n",
      " [[211.74744]] degrees Fahrenheit\n",
      "These are the l0 variables:\n",
      " [array([[ 0.01050507, -0.26555654,  0.24436545, -0.73255754]],\n",
      "      dtype=float32), array([ 0.87662125, -3.757296  , -3.0958495 , -3.9557316 ], dtype=float32)]\n",
      "These are the l1 variables:\n",
      " [array([[-0.30887094,  0.0685653 , -0.10340834,  0.12138316],\n",
      "       [-0.39086753,  1.29357   ,  0.36696762, -0.36000794],\n",
      "       [-0.9444656 ,  0.34906524,  0.1046998 , -0.9799289 ],\n",
      "       [-0.22749618,  1.0863179 ,  0.71106017, -1.2329452 ]],\n",
      "      dtype=float32), array([ 1.8836079, -3.610284 , -1.7861451,  3.954502 ], dtype=float32)]\n",
      "These are the l2 variables:\n",
      " [array([[ 0.32809713],\n",
      "       [-0.9576996 ],\n",
      "       [-0.1828484 ],\n",
      "       [ 0.87913376]], dtype=float32), array([3.5989761], dtype=float32)]\n"
     ]
    }
   ],
   "source": [
    "l0 = tf.keras.layers.Dense(units=4, input_shape=[1])  \n",
    "l1 = tf.keras.layers.Dense(units=4)  \n",
    "l2 = tf.keras.layers.Dense(units=1)  \n",
    "model = tf.keras.Sequential([l0, l1, l2])\n",
    "model.compile(loss='mean_squared_error', optimizer=tf.keras.optimizers.Adam(0.1))\n",
    "model.fit(celsius, fahrenheit, epochs=500, verbose=False)\n",
    "print(\"Finished training the model\")\n",
    "print(model.predict([100.0]))\n",
    "print(\"Model predicts that 100 degrees Celsius is:\\n {} degrees Fahrenheit\".format(model.predict([100.0])))\n",
    "print(\"These are the l0 variables:\\n {}\".format(l0.get_weights()))\n",
    "print(\"These are the l1 variables:\\n {}\".format(l1.get_weights()))\n",
    "print(\"These are the l2 variables:\\n {}\".format(l2.get_weights()))"
   ]
  },
  {
   "cell_type": "code",
   "execution_count": null,
   "metadata": {},
   "outputs": [],
   "source": []
  }
 ],
 "metadata": {
  "kernelspec": {
   "display_name": "Python 3",
   "language": "python",
   "name": "python3"
  },
  "language_info": {
   "codemirror_mode": {
    "name": "ipython",
    "version": 3
   },
   "file_extension": ".py",
   "mimetype": "text/x-python",
   "name": "python",
   "nbconvert_exporter": "python",
   "pygments_lexer": "ipython3",
   "version": "3.6.8"
  }
 },
 "nbformat": 4,
 "nbformat_minor": 2
}
